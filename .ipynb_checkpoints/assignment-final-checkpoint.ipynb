{
 "cells": [
  {
   "cell_type": "markdown",
   "metadata": {},
   "source": [
    "## Algorithmic Bias"
   ]
  },
  {
   "cell_type": "markdown",
   "metadata": {},
   "source": [
    "#### When training a model, the balance of a dataset plays a key role in the results and the real accuracy of our later results. If the minority class occupies only 5% of the dataset, one could achieve 95% accuracy after training by simply predicting the majority class 100% of the time. In the field of cancer diagnosis, where positive results are (thankfully) very much in the minority, a biased algorithm could be fatal. Finding computationally efficient strategies to rectify this issue is hence important. "
   ]
  },
  {
   "cell_type": "code",
   "execution_count": 42,
   "metadata": {},
   "outputs": [
    {
     "data": {
      "text/html": [
       "<div>\n",
       "<style scoped>\n",
       "    .dataframe tbody tr th:only-of-type {\n",
       "        vertical-align: middle;\n",
       "    }\n",
       "\n",
       "    .dataframe tbody tr th {\n",
       "        vertical-align: top;\n",
       "    }\n",
       "\n",
       "    .dataframe thead th {\n",
       "        text-align: right;\n",
       "    }\n",
       "</style>\n",
       "<table border=\"1\" class=\"dataframe\">\n",
       "  <thead>\n",
       "    <tr style=\"text-align: right;\">\n",
       "      <th></th>\n",
       "      <th>Age</th>\n",
       "      <th>Year</th>\n",
       "      <th>NNodes</th>\n",
       "      <th>Class</th>\n",
       "      <th>Survived</th>\n",
       "    </tr>\n",
       "  </thead>\n",
       "  <tbody>\n",
       "    <tr>\n",
       "      <th>0</th>\n",
       "      <td>30</td>\n",
       "      <td>64</td>\n",
       "      <td>1</td>\n",
       "      <td>1</td>\n",
       "      <td>GE5</td>\n",
       "    </tr>\n",
       "    <tr>\n",
       "      <th>1</th>\n",
       "      <td>30</td>\n",
       "      <td>62</td>\n",
       "      <td>3</td>\n",
       "      <td>1</td>\n",
       "      <td>GE5</td>\n",
       "    </tr>\n",
       "    <tr>\n",
       "      <th>2</th>\n",
       "      <td>30</td>\n",
       "      <td>65</td>\n",
       "      <td>0</td>\n",
       "      <td>1</td>\n",
       "      <td>GE5</td>\n",
       "    </tr>\n",
       "    <tr>\n",
       "      <th>3</th>\n",
       "      <td>31</td>\n",
       "      <td>59</td>\n",
       "      <td>2</td>\n",
       "      <td>1</td>\n",
       "      <td>GE5</td>\n",
       "    </tr>\n",
       "    <tr>\n",
       "      <th>4</th>\n",
       "      <td>31</td>\n",
       "      <td>65</td>\n",
       "      <td>4</td>\n",
       "      <td>1</td>\n",
       "      <td>GE5</td>\n",
       "    </tr>\n",
       "  </tbody>\n",
       "</table>\n",
       "</div>"
      ],
      "text/plain": [
       "   Age  Year  NNodes  Class Survived\n",
       "0   30    64       1      1      GE5\n",
       "1   30    62       3      1      GE5\n",
       "2   30    65       0      1      GE5\n",
       "3   31    59       2      1      GE5\n",
       "4   31    65       4      1      GE5"
      ]
     },
     "execution_count": 42,
     "metadata": {},
     "output_type": "execute_result"
    }
   ],
   "source": [
    "import numpy as np\n",
    "import pandas as pd\n",
    "import math\n",
    "import statistics\n",
    "from collections import Counter\n",
    "from numpy import unique\n",
    "from sklearn.model_selection import GridSearchCV\n",
    "\n",
    "\n",
    "surv = pd.read_csv('survival.csv')\n",
    "surv['Survived'] = 'GE5'\n",
    "surv.loc[surv['Class']==2,'Survived']='L5'\n",
    "surv.head()\n"
   ]
  },
  {
   "cell_type": "code",
   "execution_count": 23,
   "metadata": {},
   "outputs": [
    {
     "data": {
      "text/plain": [
       "GE5    225\n",
       "L5      81\n",
       "Name: Survived, dtype: int64"
      ]
     },
     "execution_count": 23,
     "metadata": {},
     "output_type": "execute_result"
    }
   ],
   "source": [
    "vc = surv['Survived'].value_counts()\n",
    "vc"
   ]
  },
  {
   "cell_type": "code",
   "execution_count": 25,
   "metadata": {},
   "outputs": [
    {
     "name": "stdout",
     "output_type": "stream",
     "text": [
      "Missing Values\n",
      "Survived    0\n",
      "Class       0\n",
      "NNodes      0\n",
      "Year        0\n",
      "Age         0\n",
      "dtype: int64\n"
     ]
    }
   ],
   "source": [
    "print(\"Missing Values\")\n",
    "print(surv.isnull().sum().sort_values(ascending = False))"
   ]
  },
  {
   "cell_type": "code",
   "execution_count": 26,
   "metadata": {},
   "outputs": [
    {
     "data": {
      "text/plain": [
       "((306, 3), (306,))"
      ]
     },
     "execution_count": 26,
     "metadata": {},
     "output_type": "execute_result"
    }
   ],
   "source": [
    "y = surv.pop('Survived').values\n",
    "surv.pop('Class')\n",
    "X = surv.values\n",
    "X.shape, y.shape"
   ]
  },
  {
   "cell_type": "code",
   "execution_count": 27,
   "metadata": {},
   "outputs": [
    {
     "name": "stdout",
     "output_type": "stream",
     "text": [
      "Minority class : 0.26\n"
     ]
    }
   ],
   "source": [
    "min_class = (Counter(y)['L5']/len(y))\n",
    "print(\"Minority class : %0.2f\" % min_class)"
   ]
  },
  {
   "cell_type": "markdown",
   "metadata": {},
   "source": [
    "The survival dataset contains two classes, L5 and GE5, corresponding to those who survive less than 5 years after surgery, and those who survive 5+ years after surgery. L5 is the minority class, at ~26%.\n",
    "In the next cell we will be training four different classifiers with this data. "
   ]
  },
  {
   "cell_type": "markdown",
   "metadata": {},
   "source": [
    "## Models"
   ]
  },
  {
   "cell_type": "code",
   "execution_count": 28,
   "metadata": {},
   "outputs": [],
   "source": [
    "from sklearn.ensemble import GradientBoostingClassifier \n",
    "from sklearn.neighbors import KNeighborsClassifier\n",
    "from sklearn.tree import DecisionTreeClassifier\n",
    "from sklearn.linear_model import LogisticRegression\n",
    "from collections import Counter\n",
    "from sklearn.metrics import confusion_matrix, accuracy_score\n",
    "from sklearn.model_selection import train_test_split\n",
    "from sklearn.metrics import roc_curve, auc\n",
    "from sklearn.metrics import f1_score\n",
    "from sklearn.metrics import plot_precision_recall_curve\n",
    "\n",
    "models = {}\n",
    "models['Gradient Boosting'] = GradientBoostingClassifier(random_state=1)\n",
    "models['Decision Tree'] = DecisionTreeClassifier(criterion='entropy')\n",
    "models['k Nearest Neighbors'] = KNeighborsClassifier(n_neighbors=3)  \n",
    "models['Logistic Regression'] = LogisticRegression(max_iter=10000, solver = 'sag', random_state=0)\n"
   ]
  },
  {
   "cell_type": "markdown",
   "metadata": {},
   "source": [
    "In the below cell, the \"evaluate_model\" function, calculates a number of metrics by which we can evaluate the classifiers. The following measures are being tracked:\n",
    "- Bias, which is measured as one minus the number of predictions of the minority class, divided by the number of actual members of the minority class. Therefore a perfect prediction of the minority class will result in bias of 0.\n",
    "- Accuracy, meaning the percentage of correct predictions. \n",
    "- Precision, meaning the proportion of retrieved results that are relevant.\n",
    "- Recall, meaning the true positive rate.\n",
    "- F1-measure meaning the harmonic mean of precision and recall. \n",
    "- BER, the Balanced Error Rate."
   ]
  },
  {
   "cell_type": "code",
   "execution_count": 56,
   "metadata": {},
   "outputs": [],
   "source": [
    "def train_model(model, X_train, X_test, y_train, y_test):\n",
    "    y_pred = model.fit(X_train, y_train).predict(X_test)\n",
    "    return (evaluate_model(y_pred, y_test))\n",
    "    \n",
    "def evaluate_model(y_pred, y_test):\n",
    "    pred_neg = Counter(y_pred)['L5']\n",
    "    pred_pos = len(y_pred) - pred_neg\n",
    "    test_neg = Counter(y_test)['L5']\n",
    "    bias = 1 - (pred_neg / test_neg)\n",
    "    accuracy = accuracy_score(y_test, y_pred)\n",
    "    minority_percent = pred_neg/len(y_pred)\n",
    "    confusion = confusion_matrix(y_test, y_pred, labels=['L5', 'GE5'])\n",
    "    precision = confusion[1][1] / (confusion[1][1] + confusion[0][1])\n",
    "    recall = confusion[1][1] / (confusion[1][1] + confusion[1][0])\n",
    "    f1 = f1_score(y_test, y_pred, pos_label='GE5')\n",
    "    false_positive = confusion[0][1] / (confusion[0][1] + confusion[0][0])\n",
    "    false_negative = confusion[1][0] / (confusion[1][0] + confusion[1][1])\n",
    "    BER = statistics.mean([false_positive, false_negative])\n",
    "    return [accuracy, bias, minority_percent, f1, precision, recall, false_positive, BER, confusion]\n",
    "\n"
   ]
  },
  {
   "cell_type": "markdown",
   "metadata": {},
   "source": [
    "## Hold-Out Testing"
   ]
  },
  {
   "cell_type": "markdown",
   "metadata": {},
   "source": [
    "As the dataset is quite limited in size, we will not be pursuing a train/validation/test split, and instead a simple 70/30 train/test split. The goal below is to establish a baseline of how Gradient Boosting, Decision Trees, kNN and Logistic Regression perform on this dataset, without modification.  "
   ]
  },
  {
   "cell_type": "code",
   "execution_count": 30,
   "metadata": {},
   "outputs": [],
   "source": [
    "X_train, X_test, y_train, y_test = train_test_split(X, y, test_size = 1/3, random_state=0)\n",
    "minority_class = (Counter(y_test)['L5']/len(y_test))\n",
    "model_results = pd.DataFrame(columns=['Classifier', 'Accuracy','Bias','Predicted Minority', 'F1', \n",
    "                                      'Precision', 'Recall', 'False Positive', 'BER', 'Confusion Matrix'])\n",
    "for i, m in enumerate(models):\n",
    "    model_results.loc[i] = [m] + train_model(models[m], X_train, X_test, y_train, y_test)\n"
   ]
  },
  {
   "cell_type": "code",
   "execution_count": 31,
   "metadata": {
    "scrolled": true
   },
   "outputs": [
    {
     "data": {
      "text/html": [
       "<div>\n",
       "<style scoped>\n",
       "    .dataframe tbody tr th:only-of-type {\n",
       "        vertical-align: middle;\n",
       "    }\n",
       "\n",
       "    .dataframe tbody tr th {\n",
       "        vertical-align: top;\n",
       "    }\n",
       "\n",
       "    .dataframe thead th {\n",
       "        text-align: right;\n",
       "    }\n",
       "</style>\n",
       "<table border=\"1\" class=\"dataframe\">\n",
       "  <thead>\n",
       "    <tr style=\"text-align: right;\">\n",
       "      <th></th>\n",
       "      <th>Classifier</th>\n",
       "      <th>Accuracy</th>\n",
       "      <th>Bias</th>\n",
       "      <th>Predicted Minority</th>\n",
       "      <th>F1</th>\n",
       "      <th>Precision</th>\n",
       "      <th>Recall</th>\n",
       "      <th>False Positive</th>\n",
       "      <th>BER</th>\n",
       "      <th>Confusion Matrix</th>\n",
       "    </tr>\n",
       "  </thead>\n",
       "  <tbody>\n",
       "    <tr>\n",
       "      <th>0</th>\n",
       "      <td>Gradient Boosting</td>\n",
       "      <td>0.62</td>\n",
       "      <td>0.36</td>\n",
       "      <td>0.23</td>\n",
       "      <td>0.73</td>\n",
       "      <td>0.67</td>\n",
       "      <td>0.80</td>\n",
       "      <td>0.72</td>\n",
       "      <td>0.46</td>\n",
       "      <td>[[10, 26], [13, 53]]</td>\n",
       "    </tr>\n",
       "    <tr>\n",
       "      <th>1</th>\n",
       "      <td>Decision Tree</td>\n",
       "      <td>0.59</td>\n",
       "      <td>0.28</td>\n",
       "      <td>0.25</td>\n",
       "      <td>0.70</td>\n",
       "      <td>0.66</td>\n",
       "      <td>0.76</td>\n",
       "      <td>0.72</td>\n",
       "      <td>0.48</td>\n",
       "      <td>[[10, 26], [16, 50]]</td>\n",
       "    </tr>\n",
       "    <tr>\n",
       "      <th>2</th>\n",
       "      <td>k Nearest Neighbors</td>\n",
       "      <td>0.68</td>\n",
       "      <td>0.53</td>\n",
       "      <td>0.17</td>\n",
       "      <td>0.78</td>\n",
       "      <td>0.69</td>\n",
       "      <td>0.89</td>\n",
       "      <td>0.72</td>\n",
       "      <td>0.41</td>\n",
       "      <td>[[10, 26], [7, 59]]</td>\n",
       "    </tr>\n",
       "    <tr>\n",
       "      <th>3</th>\n",
       "      <td>Logistic Regression</td>\n",
       "      <td>0.65</td>\n",
       "      <td>0.83</td>\n",
       "      <td>0.06</td>\n",
       "      <td>0.78</td>\n",
       "      <td>0.66</td>\n",
       "      <td>0.95</td>\n",
       "      <td>0.92</td>\n",
       "      <td>0.48</td>\n",
       "      <td>[[3, 33], [3, 63]]</td>\n",
       "    </tr>\n",
       "  </tbody>\n",
       "</table>\n",
       "</div>"
      ],
      "text/plain": [
       "            Classifier  Accuracy  Bias  Predicted Minority   F1  Precision  \\\n",
       "0    Gradient Boosting      0.62  0.36                0.23 0.73       0.67   \n",
       "1        Decision Tree      0.59  0.28                0.25 0.70       0.66   \n",
       "2  k Nearest Neighbors      0.68  0.53                0.17 0.78       0.69   \n",
       "3  Logistic Regression      0.65  0.83                0.06 0.78       0.66   \n",
       "\n",
       "   Recall  False Positive  BER      Confusion Matrix  \n",
       "0    0.80            0.72 0.46  [[10, 26], [13, 53]]  \n",
       "1    0.76            0.72 0.48  [[10, 26], [16, 50]]  \n",
       "2    0.89            0.72 0.41   [[10, 26], [7, 59]]  \n",
       "3    0.95            0.92 0.48    [[3, 33], [3, 63]]  "
      ]
     },
     "execution_count": 31,
     "metadata": {},
     "output_type": "execute_result"
    }
   ],
   "source": [
    "pd.set_option('display.float_format','{:.2f}'.format)\n",
    "model_results"
   ]
  },
  {
   "cell_type": "markdown",
   "metadata": {},
   "source": [
    "- All four models are showing bias, with Logistic Regression showing significantly the most bias.\n",
    "- The accuracy for all four models falls between .60 and .68. A good aim would be a minimum accuracy of .7\n",
    "- Precision between the models is also pretty steady, falling between .66 and .69.\n",
    "- Recall is relatively high for all models, which when compared with the lower accuracy rates, again shows the bias of the classifiers towards the majority class. \n",
    "- The false positive rate is high for all four models, but especially for Logistic Regression\n",
    "- The balanced error rate is falling between .40 and .48.\n",
    "\\\n",
    "\\\n",
    "If we look at Logistic Regression, it is epitomising the issue at hand with regards to bias in unbalanced data. The model is almost never predicting the minority class, but because of the imbalance, this is actually equating to an excellent true positive rate. If we had only looked at the true positive rate, we may have inferred a false picture of a very accurate classifier. "
   ]
  },
  {
   "cell_type": "code",
   "execution_count": 32,
   "metadata": {},
   "outputs": [
    {
     "data": {
      "image/png": "[encoded data removed]",
      "text/plain": [
       "<Figure size 1008x432 with 1 Axes>"
      ]
     },
     "metadata": {
      "needs_background": "light"
     },
     "output_type": "display_data"
    }
   ],
   "source": [
    "import matplotlib.pyplot as plt \n",
    "%matplotlib inline \n",
    "labels =  ['Test Set'] + list(model_results['Classifier'].values)\n",
    "results = [minority_class] + list(model_results['Predicted Minority'].values)\n",
    "plt.figure(figsize=(14,6))\n",
    "plt.rc('font', size=12) \n",
    "plt.bar(labels, results, width=0.5, color=['green', 'blue', 'blue','blue','blue'],alpha=0.5)\n",
    "plt.axhline(y=minority_class, color='red')\n",
    "plt.ylabel('Percentage of Minority Class')\n",
    "plt.title(\"Percentage of Minority Class present in Predictions versus Test Set\")\n",
    "plt.show()"
   ]
  },
  {
   "cell_type": "markdown",
   "metadata": {},
   "source": [
    "Here we are plotting the presence of the minority class as a percentage of all the examples in the test set. The purple bars are predictions, and the green bar is the actual percentage present in the test set. The red horizontal line is the level at which the classifiers would ideally be predicting the minority class. None of the classifiers are nearing that level, but the decision tree classifier is performing the best of the four, and logistic regression the worst. \n",
    "\n",
    "\n",
    "\n",
    "\n"
   ]
  },
  {
   "cell_type": "markdown",
   "metadata": {},
   "source": [
    "## ROC-Curve"
   ]
  },
  {
   "cell_type": "markdown",
   "metadata": {},
   "source": [
    "Another way of viewing the results is plotting a ROC, or receiver operating characteristic, curve. The roc curve plots the true positive rate, or sensitivity, against the false positive rate, or 1-specificity."
   ]
  },
  {
   "cell_type": "code",
   "execution_count": 33,
   "metadata": {
    "scrolled": false
   },
   "outputs": [
    {
     "data": {
      "image/png": "[encoded data removed]",
      "text/plain": [
       "<Figure size 720x360 with 1 Axes>"
      ]
     },
     "metadata": {
      "needs_background": "light"
     },
     "output_type": "display_data"
    },
    {
     "data": {
      "text/plain": [
       "[('Gradient Boosting', 0.6125841750841751),\n",
       " ('Decision Tree', 0.5176767676767676),\n",
       " ('k Nearest Neighbors', 0.6460437710437711),\n",
       " ('Logistic Regression', 0.6144781144781145)]"
      ]
     },
     "execution_count": 33,
     "metadata": {},
     "output_type": "execute_result"
    }
   ],
   "source": [
    "%matplotlib inline\n",
    "import matplotlib.pyplot as plt\n",
    "from sklearn.metrics import roc_auc_score\n",
    "\n",
    "plt.figure(figsize=(10,5))\n",
    "lw = 2\n",
    "roc = {}\n",
    "scores = []\n",
    "colours = [\"blue\", \"green\", \"orange\", \"red\"]\n",
    "for i, m in enumerate(models):\n",
    "    y_score = models[m].fit(X_train, y_train).predict_proba(X_test)\n",
    "    fp, tp, t = roc_curve(y_test, y_score[:,1], pos_label='L5')\n",
    "    roc[m] = [fp,tp,auc(fp, tp),m]\n",
    "    scores.append((m, roc_auc_score(y_test, y_score[:,1])))\n",
    "    plt.plot(fp, tp, color=colours[i],\n",
    "             lw=lw, label=('ROC ' + m + '(area = %0.2f)' % auc(fp,tp)))\n",
    "plt.plot([0, 1], [0, 1], color='navy', lw=lw, linestyle='--')\n",
    "plt.xlim([0.0, 1.0])\n",
    "plt.ylim([0.0, 1.0])\n",
    "plt.xlabel('False Positive Rate')\n",
    "plt.ylabel('True Positive Rate')\n",
    "plt.title('ROC Analysis for Survival data')\n",
    "plt.legend(loc=\"best\")\n",
    "plt.show()\n",
    "\n",
    "scores"
   ]
  },
  {
   "cell_type": "markdown",
   "metadata": {},
   "source": [
    "When looking at a ROC curve, what we are looking to consider is the area under the curve, or AUC. None of the classifiers have performed particularly well in this analysis. The ROC curve for the decision tree, is almost flat, with true positive rate and false positive rate growing steadily together. The other curves have more variation, with KNN seeming to perform best. It is hard to truly gauge performance by looking at a curve, so I have also scored the curves using roc_auc_score. Decision tree receives the lowest score, and KNN the best. Gradient Boosting and Logistic Regression receive very similar scores. "
   ]
  },
  {
   "cell_type": "markdown",
   "metadata": {},
   "source": [
    "## Cross Validation"
   ]
  },
  {
   "cell_type": "markdown",
   "metadata": {},
   "source": [
    "We will now aim for a fuller view on the performance of the classifiers, using 10 fold cross validation. "
   ]
  },
  {
   "cell_type": "code",
   "execution_count": 34,
   "metadata": {},
   "outputs": [],
   "source": [
    "from sklearn.model_selection import cross_validate\n",
    "from sklearn.metrics import make_scorer\n",
    "from sklearn.model_selection import cross_val_score\n",
    "\n",
    "def tp(y_true, y_pred): return confusion_matrix(y_true, y_pred,labels=['L5','GE5'])[1, 1]\n",
    "def tn(y_neg, y_pred): return confusion_matrix(y_neg, y_pred,labels=['L5','GE5'])[0, 0]\n",
    "def fp(y_neg, y_pred): return confusion_matrix(y_neg, y_pred,labels=['L5','GE5'])[0, 1]\n",
    "def fn(y_neg, y_pred): return confusion_matrix(y_neg, y_pred,labels=['L5','GE5'])[1, 0]\n",
    "scoring = {'tp' : make_scorer(tp), 'tn' : make_scorer(tn),\n",
    "           'fp' : make_scorer(fp), 'fn' : make_scorer(fn)}\n",
    "\n",
    "\n",
    "folds = 10\n",
    "v = 0 #  use 1 or 0"
   ]
  },
  {
   "cell_type": "code",
   "execution_count": 35,
   "metadata": {},
   "outputs": [],
   "source": [
    "def evaluate_xval(xval):\n",
    "    pred_neg = xval['test_tn'] + xval['test_fn']\n",
    "    pred_pos = xval['test_tp'] + xval['test_fp']\n",
    "    test_neg = xval['test_tn'] + xval['test_fp']\n",
    "    bias = 1 - (pred_neg.sum() / test_neg.sum())\n",
    "    accuracy = (xval['test_tp'].sum() + xval['test_tn'].sum()) / (pred_neg.sum() + pred_pos.sum())\n",
    "    minority_percent = pred_neg.sum()/(pred_neg.sum() + pred_pos.sum())\n",
    "    precision = xval['test_tp'].sum() / (xval['test_tp'].sum() + xval['test_fp']).sum()\n",
    "    recall = xval['test_tp'].sum() / (xval['test_tp'].sum() + xval['test_fn'].sum())\n",
    "    f1 = (2 * precision * recall) / (precision + recall)\n",
    "    true_negative = xval['test_tn'].sum() / (xval['test_fp'].sum() + xval['test_tn'].sum())\n",
    "    false_positive = xval['test_fp'].sum() / (xval['test_fp'].sum() + xval['test_tn'].sum())\n",
    "    false_negative = xval['test_fn'].sum() / (xval['test_fn'].sum() + xval['test_tp'].sum())\n",
    "    BER = statistics.mean([false_positive, false_negative])\n",
    "    return [bias, accuracy, minority_percent, precision, recall, f1, false_positive, BER]"
   ]
  },
  {
   "cell_type": "code",
   "execution_count": 36,
   "metadata": {},
   "outputs": [],
   "source": [
    "xval_results = pd.DataFrame(columns=['Classifier','Bias', 'Accuracy', 'Predicted Minority', 'Precision',\n",
    "                                    'Recall', 'F1', 'False Positive Rate', 'BER'])\n",
    "for i, m in enumerate(models):\n",
    "    cv_results = cross_validate(models[m], X, y, cv= folds,scoring=scoring, return_train_score=False, \n",
    "                                verbose = v, n_jobs = -1)\n",
    "    xval_results.loc[i] = [m] + evaluate_xval(cv_results)"
   ]
  },
  {
   "cell_type": "code",
   "execution_count": 37,
   "metadata": {},
   "outputs": [
    {
     "data": {
      "text/html": [
       "<div>\n",
       "<style scoped>\n",
       "    .dataframe tbody tr th:only-of-type {\n",
       "        vertical-align: middle;\n",
       "    }\n",
       "\n",
       "    .dataframe tbody tr th {\n",
       "        vertical-align: top;\n",
       "    }\n",
       "\n",
       "    .dataframe thead th {\n",
       "        text-align: right;\n",
       "    }\n",
       "</style>\n",
       "<table border=\"1\" class=\"dataframe\">\n",
       "  <thead>\n",
       "    <tr style=\"text-align: right;\">\n",
       "      <th></th>\n",
       "      <th>Classifier</th>\n",
       "      <th>Bias</th>\n",
       "      <th>Accuracy</th>\n",
       "      <th>Predicted Minority</th>\n",
       "      <th>Precision</th>\n",
       "      <th>Recall</th>\n",
       "      <th>F1</th>\n",
       "      <th>False Positive Rate</th>\n",
       "      <th>BER</th>\n",
       "    </tr>\n",
       "  </thead>\n",
       "  <tbody>\n",
       "    <tr>\n",
       "      <th>0</th>\n",
       "      <td>Gradient Boosting</td>\n",
       "      <td>0.06</td>\n",
       "      <td>0.62</td>\n",
       "      <td>0.25</td>\n",
       "      <td>0.10</td>\n",
       "      <td>0.75</td>\n",
       "      <td>0.17</td>\n",
       "      <td>0.75</td>\n",
       "      <td>0.50</td>\n",
       "    </tr>\n",
       "    <tr>\n",
       "      <th>1</th>\n",
       "      <td>Decision Tree</td>\n",
       "      <td>-0.10</td>\n",
       "      <td>0.61</td>\n",
       "      <td>0.29</td>\n",
       "      <td>0.10</td>\n",
       "      <td>0.72</td>\n",
       "      <td>0.17</td>\n",
       "      <td>0.68</td>\n",
       "      <td>0.48</td>\n",
       "    </tr>\n",
       "    <tr>\n",
       "      <th>2</th>\n",
       "      <td>k Nearest Neighbors</td>\n",
       "      <td>0.15</td>\n",
       "      <td>0.67</td>\n",
       "      <td>0.23</td>\n",
       "      <td>0.10</td>\n",
       "      <td>0.80</td>\n",
       "      <td>0.17</td>\n",
       "      <td>0.69</td>\n",
       "      <td>0.44</td>\n",
       "    </tr>\n",
       "    <tr>\n",
       "      <th>3</th>\n",
       "      <td>Logistic Regression</td>\n",
       "      <td>0.70</td>\n",
       "      <td>0.75</td>\n",
       "      <td>0.08</td>\n",
       "      <td>0.10</td>\n",
       "      <td>0.96</td>\n",
       "      <td>0.18</td>\n",
       "      <td>0.81</td>\n",
       "      <td>0.43</td>\n",
       "    </tr>\n",
       "  </tbody>\n",
       "</table>\n",
       "</div>"
      ],
      "text/plain": [
       "            Classifier  Bias  Accuracy  Predicted Minority  Precision  Recall  \\\n",
       "0    Gradient Boosting  0.06      0.62                0.25       0.10    0.75   \n",
       "1        Decision Tree -0.10      0.61                0.29       0.10    0.72   \n",
       "2  k Nearest Neighbors  0.15      0.67                0.23       0.10    0.80   \n",
       "3  Logistic Regression  0.70      0.75                0.08       0.10    0.96   \n",
       "\n",
       "    F1  False Positive Rate  BER  \n",
       "0 0.17                 0.75 0.50  \n",
       "1 0.17                 0.68 0.48  \n",
       "2 0.17                 0.69 0.44  \n",
       "3 0.18                 0.81 0.43  "
      ]
     },
     "execution_count": 37,
     "metadata": {},
     "output_type": "execute_result"
    }
   ],
   "source": [
    "xval_results"
   ]
  },
  {
   "cell_type": "code",
   "execution_count": 38,
   "metadata": {},
   "outputs": [
    {
     "data": {
      "image/png": "[encoded data removed]",
      "text/plain": [
       "<Figure size 1008x432 with 1 Axes>"
      ]
     },
     "metadata": {
      "needs_background": "light"
     },
     "output_type": "display_data"
    }
   ],
   "source": [
    "labels =  ['Actual'] + list(xval_results['Classifier'].values)\n",
    "results = [min_class] + list(xval_results['Predicted Minority'])\n",
    "plt.figure(figsize=(14,6))\n",
    "plt.rc('font', size=12) \n",
    "plt.bar(labels, results, width=0.5, color=['green', 'blue', 'blue','blue','blue'],alpha=0.5)\n",
    "plt.axhline(min_class, color='red')\n",
    "plt.ylabel('Percentage of Minority Class')\n",
    "plt.title(\"Percentage of Minority Class Present in Cross Val Predictions, versus Test Set\")\n",
    "plt.show()"
   ]
  },
  {
   "cell_type": "markdown",
   "metadata": {},
   "source": [
    "Cross validation has produced quite drastically different results to our hold out testing. In averaging the ten scores from the 10 folds, decision tree is now slightly over-predicting for the minority class. Gradient Boosting has performed rather well. Logistic regression remains the worst performer with regards to bias. "
   ]
  },
  {
   "cell_type": "markdown",
   "metadata": {},
   "source": [
    "### Rectifying bias: strategy"
   ]
  },
  {
   "cell_type": "markdown",
   "metadata": {},
   "source": [
    "When considering our previous results, the best performing classifier is Graident Boosting. Gradient Boosting is an ensemble classifier, and I decided to see if ensemble methods could deal better with bias in general, without having to upsample or downsample the data. "
   ]
  },
  {
   "cell_type": "markdown",
   "metadata": {},
   "source": [
    "## Gradient Boosting"
   ]
  },
  {
   "cell_type": "markdown",
   "metadata": {},
   "source": [
    "Gradient boosting is an ensemble approach we have already used. It uses gradient descent to minimise error the the next tree (classifier) generated. We saw in cross validation that Gradient Descent was performing quite well without having tuned the hyper parameters. In order to improve results, I will be using a grid search.  "
   ]
  },
  {
   "cell_type": "code",
   "execution_count": 50,
   "metadata": {},
   "outputs": [],
   "source": [
    "param_grid={'learning_rate':[0.1, 0.15, 0.2, 0.3], \n",
    "            'n_estimators': list(range(50,250, 20)), \n",
    "            'criterion': ['friedman_mse', 'mse', ',mae'],\n",
    "           'min_samples_split': list(range(2, 10)), \n",
    "           'min_samples_leaf': list(range(1,10))}"
   ]
  },
  {
   "cell_type": "code",
   "execution_count": 68,
   "metadata": {},
   "outputs": [],
   "source": [
    "my_tuned_model = GridSearchCV(GradientBoostingClassifier(random_state=0), param_grid, cv=10, verbose = 1, n_jobs = -1)\n"
   ]
  },
  {
   "cell_type": "code",
   "execution_count": 64,
   "metadata": {},
   "outputs": [
    {
     "name": "stdout",
     "output_type": "stream",
     "text": [
      "Fitting 10 folds for each of 8640 candidates, totalling 86400 fits\n"
     ]
    },
    {
     "name": "stderr",
     "output_type": "stream",
     "text": [
      "[Parallel(n_jobs=-1)]: Using backend LokyBackend with 12 concurrent workers.\n",
      "[Parallel(n_jobs=-1)]: Done  26 tasks      | elapsed:    1.5s\n",
      "[Parallel(n_jobs=-1)]: Done 280 tasks      | elapsed:    3.7s\n",
      "[Parallel(n_jobs=-1)]: Done 780 tasks      | elapsed:    7.7s\n",
      "[Parallel(n_jobs=-1)]: Done 1480 tasks      | elapsed:   13.6s\n",
      "[Parallel(n_jobs=-1)]: Done 2380 tasks      | elapsed:   21.7s\n",
      "[Parallel(n_jobs=-1)]: Done 3480 tasks      | elapsed:   31.3s\n",
      "[Parallel(n_jobs=-1)]: Done 4780 tasks      | elapsed:   42.8s\n",
      "[Parallel(n_jobs=-1)]: Done 6280 tasks      | elapsed:   55.5s\n",
      "[Parallel(n_jobs=-1)]: Done 7980 tasks      | elapsed:  1.2min\n",
      "[Parallel(n_jobs=-1)]: Done 9880 tasks      | elapsed:  1.5min\n",
      "[Parallel(n_jobs=-1)]: Done 11980 tasks      | elapsed:  1.8min\n",
      "[Parallel(n_jobs=-1)]: Done 14280 tasks      | elapsed:  2.1min\n",
      "[Parallel(n_jobs=-1)]: Done 16780 tasks      | elapsed:  2.5min\n",
      "[Parallel(n_jobs=-1)]: Done 19480 tasks      | elapsed:  3.0min\n",
      "[Parallel(n_jobs=-1)]: Done 22380 tasks      | elapsed:  3.4min\n",
      "[Parallel(n_jobs=-1)]: Done 25480 tasks      | elapsed:  3.9min\n",
      "[Parallel(n_jobs=-1)]: Done 28780 tasks      | elapsed:  4.4min\n",
      "[Parallel(n_jobs=-1)]: Done 32280 tasks      | elapsed:  4.9min\n",
      "[Parallel(n_jobs=-1)]: Done 35980 tasks      | elapsed:  5.5min\n",
      "[Parallel(n_jobs=-1)]: Done 39880 tasks      | elapsed:  6.2min\n",
      "[Parallel(n_jobs=-1)]: Done 43980 tasks      | elapsed:  6.8min\n",
      "[Parallel(n_jobs=-1)]: Done 48280 tasks      | elapsed:  7.4min\n",
      "[Parallel(n_jobs=-1)]: Done 52780 tasks      | elapsed:  8.1min\n",
      "[Parallel(n_jobs=-1)]: Done 57480 tasks      | elapsed:  8.8min\n",
      "[Parallel(n_jobs=-1)]: Done 86400 out of 86400 | elapsed:  9.2min finished\n"
     ]
    }
   ],
   "source": [
    "GBC = GradientBoostingClassifier(random_state=0).set_params(**my_tuned_model.best_params_)\n",
    "model_results2 = pd.DataFrame(columns=['Classifier', 'Accuracy','Bias','Predicted Minority', 'F1', \n",
    "                                      'Precision', 'Recall', 'False Positive', 'BER', 'Confusion Matrix'])\n",
    "model_results2.loc[0] = ['Gradient Boosting'] + train_model(my_tuned_model, X_train, X_test, y_train, y_test)"
   ]
  },
  {
   "cell_type": "code",
   "execution_count": 72,
   "metadata": {},
   "outputs": [
    {
     "data": {
      "text/html": [
       "<div>\n",
       "<style scoped>\n",
       "    .dataframe tbody tr th:only-of-type {\n",
       "        vertical-align: middle;\n",
       "    }\n",
       "\n",
       "    .dataframe tbody tr th {\n",
       "        vertical-align: top;\n",
       "    }\n",
       "\n",
       "    .dataframe thead th {\n",
       "        text-align: right;\n",
       "    }\n",
       "</style>\n",
       "<table border=\"1\" class=\"dataframe\">\n",
       "  <thead>\n",
       "    <tr style=\"text-align: right;\">\n",
       "      <th></th>\n",
       "      <th>Classifier</th>\n",
       "      <th>Accuracy</th>\n",
       "      <th>Bias</th>\n",
       "      <th>Predicted Minority</th>\n",
       "      <th>F1</th>\n",
       "      <th>Precision</th>\n",
       "      <th>Recall</th>\n",
       "      <th>False Positive</th>\n",
       "      <th>BER</th>\n",
       "      <th>Confusion Matrix</th>\n",
       "    </tr>\n",
       "  </thead>\n",
       "  <tbody>\n",
       "    <tr>\n",
       "      <th>0</th>\n",
       "      <td>Gradient Boosting</td>\n",
       "      <td>0.64</td>\n",
       "      <td>0.47</td>\n",
       "      <td>0.19</td>\n",
       "      <td>0.75</td>\n",
       "      <td>0.67</td>\n",
       "      <td>0.85</td>\n",
       "      <td>0.75</td>\n",
       "      <td>0.45</td>\n",
       "      <td>[[9, 27], [10, 56]]</td>\n",
       "    </tr>\n",
       "  </tbody>\n",
       "</table>\n",
       "</div>"
      ],
      "text/plain": [
       "          Classifier  Accuracy  Bias  Predicted Minority   F1  Precision  \\\n",
       "0  Gradient Boosting      0.64  0.47                0.19 0.75       0.67   \n",
       "\n",
       "   Recall  False Positive  BER     Confusion Matrix  \n",
       "0    0.85            0.75 0.45  [[9, 27], [10, 56]]  "
      ]
     },
     "execution_count": 72,
     "metadata": {},
     "output_type": "execute_result"
    }
   ],
   "source": [
    "model_results2"
   ]
  },
  {
   "cell_type": "code",
   "execution_count": 69,
   "metadata": {},
   "outputs": [],
   "source": [
    "import matplotlib.patches as mpatches\n",
    "\n",
    "# This function will be used to plot the differing results generated by the singular\n",
    "# classifiers versus the ensembles.\n",
    "def plot_difference(i, title):\n",
    "    accuracy = [model_results.iloc[i]['Accuracy'], model_results2.iloc[i]['Accuracy']]\n",
    "    bias = [model_results.iloc[i]['Bias'], model_results2.iloc[i]['Bias']]\n",
    "    precision = [model_results.iloc[i]['Precision'], model_results2.iloc[i]['Precision']]\n",
    "    recall = [model_results.iloc[i]['Recall'], model_results2.iloc[i]['Recall']]\n",
    "    X = np.arange(2)\n",
    "    fig = plt.figure(figsize=(10,6))\n",
    "    ax = fig.add_axes([0,0,1,1])\n",
    "    ax.bar(X + 0.00, accuracy, color = 'b', width = 0.1, label=\"Accuracy\")\n",
    "    ax.bar(X + 0.1, bias, color = 'g', width = 0.1, label = \"Bias\")\n",
    "    ax.bar(X + 0.20, precision, color = 'r', width = 0.1, label = \"Precision\")\n",
    "    ax.bar(X + 0.30, recall, color = 'y', width = 0.1, label = \"Recall\")\n",
    "    r = mpatches.Patch(color='red', label='Precision')\n",
    "    b = mpatches.Patch(color='blue', label='Accuracy')\n",
    "    y = mpatches.Patch(color='yellow', label='Recall')\n",
    "    g = mpatches.Patch(color='green', label='Bias')\n",
    "    plt.legend(handles=[r,b,y,g])\n",
    "    plt.title(title)\n"
   ]
  },
  {
   "cell_type": "code",
   "execution_count": 70,
   "metadata": {},
   "outputs": [
    {
     "data": {
      "image/png": "[encoded data removed]",
      "text/plain": [
       "<Figure size 720x432 with 1 Axes>"
      ]
     },
     "metadata": {
      "needs_background": "light"
     },
     "output_type": "display_data"
    }
   ],
   "source": [
    "plot_difference(0, 'Gradient Boosting Results Before and After')"
   ]
  },
  {
   "cell_type": "markdown",
   "metadata": {},
   "source": [
    "Unfortunately, our strategy here has been unsuccessful. Although we see a small increase in accuracy, and a more significant increase in Recall, bias has also increased in the tuned model. "
   ]
  },
  {
   "cell_type": "markdown",
   "metadata": {},
   "source": [
    "## Random Forest"
   ]
  },
  {
   "cell_type": "markdown",
   "metadata": {},
   "source": [
    "The next classifier I explored was Random Forest. A random forest, as the name may suggest, is constructed from a multitude of decision trees, and I will hence be comparing it to the results produced by the decision tree in section 1. Random Forests also give you the opportunity to manually weight the potential classifications. I decided to write a function to determine the best possible weight for 'LE5'. "
   ]
  },
  {
   "cell_type": "code",
   "execution_count": 22,
   "metadata": {},
   "outputs": [],
   "source": [
    "from sklearn.ensemble import RandomForestClassifier\n",
    "\n",
    "def find_best_weight(bias_limit, start, limit, X_train, X_test, y_train, y_test):\n",
    "    best_b, best_a, best_w = 0, 0, 0\n",
    "    for w in range(start, limit):\n",
    "        RFC = RandomForestClassifier(random_state = 0, criterion=\"gini\", bootstrap=False, min_impurity_decrease = 0.000001, class_weight={'L5':w,'GE5':1})\n",
    "        y_pred = RFC.fit(X_train, y_train).predict(X_test)\n",
    "        bias, accuracy = get_accuracy_bias(y_test, y_pred)\n",
    "        best_b, best_w, best_a = get_best(best_b, best_w, w, best_a, bias, accuracy, bias_limit)\n",
    "    return (best_w)\n",
    "    "
   ]
  },
  {
   "cell_type": "code",
   "execution_count": 23,
   "metadata": {},
   "outputs": [],
   "source": [
    "w = find_best_weight(.9, 1, 300, X_train, X_test, y_train, y_test)"
   ]
  },
  {
   "cell_type": "code",
   "execution_count": 24,
   "metadata": {
    "scrolled": true
   },
   "outputs": [
    {
     "data": {
      "text/html": [
       "<div>\n",
       "<style scoped>\n",
       "    .dataframe tbody tr th:only-of-type {\n",
       "        vertical-align: middle;\n",
       "    }\n",
       "\n",
       "    .dataframe tbody tr th {\n",
       "        vertical-align: top;\n",
       "    }\n",
       "\n",
       "    .dataframe thead th {\n",
       "        text-align: right;\n",
       "    }\n",
       "</style>\n",
       "<table border=\"1\" class=\"dataframe\">\n",
       "  <thead>\n",
       "    <tr style=\"text-align: right;\">\n",
       "      <th></th>\n",
       "      <th>Classifier</th>\n",
       "      <th>Accuracy</th>\n",
       "      <th>Bias</th>\n",
       "      <th>Predicted Minority</th>\n",
       "      <th>F1</th>\n",
       "      <th>Precision</th>\n",
       "      <th>Recall</th>\n",
       "      <th>False Positive</th>\n",
       "      <th>BER</th>\n",
       "      <th>Confusion Matrix</th>\n",
       "    </tr>\n",
       "  </thead>\n",
       "  <tbody>\n",
       "    <tr>\n",
       "      <th>0</th>\n",
       "      <td>Gradient Boosting</td>\n",
       "      <td>0.65</td>\n",
       "      <td>0.28</td>\n",
       "      <td>0.25</td>\n",
       "      <td>0.75</td>\n",
       "      <td>0.70</td>\n",
       "      <td>0.80</td>\n",
       "      <td>0.64</td>\n",
       "      <td>0.42</td>\n",
       "      <td>[[13, 23], [13, 53]]</td>\n",
       "    </tr>\n",
       "    <tr>\n",
       "      <th>1</th>\n",
       "      <td>RFC</td>\n",
       "      <td>0.61</td>\n",
       "      <td>0.11</td>\n",
       "      <td>0.31</td>\n",
       "      <td>0.71</td>\n",
       "      <td>0.69</td>\n",
       "      <td>0.73</td>\n",
       "      <td>0.61</td>\n",
       "      <td>0.44</td>\n",
       "      <td>[[14, 22], [18, 48]]</td>\n",
       "    </tr>\n",
       "  </tbody>\n",
       "</table>\n",
       "</div>"
      ],
      "text/plain": [
       "          Classifier  Accuracy  Bias  Predicted Minority   F1  Precision  \\\n",
       "0  Gradient Boosting      0.65  0.28                0.25 0.75       0.70   \n",
       "1                RFC      0.61  0.11                0.31 0.71       0.69   \n",
       "\n",
       "   Recall  False Positive  BER      Confusion Matrix  \n",
       "0    0.80            0.64 0.42  [[13, 23], [13, 53]]  \n",
       "1    0.73            0.61 0.44  [[14, 22], [18, 48]]  "
      ]
     },
     "execution_count": 24,
     "metadata": {},
     "output_type": "execute_result"
    }
   ],
   "source": [
    "RFC = RandomForestClassifier(random_state = 0, criterion=\"gini\", bootstrap=False, min_impurity_decrease = 0.000001, class_weight={'L5':w,'GE5':1})\n",
    "y_pred = RFC.fit(X_train, y_train).predict(X_test)\n",
    "model_results2.loc[1] = ['RFC'] + train_model(RFC, X_train, X_test, y_train, y_test)\n",
    "model_results2"
   ]
  },
  {
   "cell_type": "code",
   "execution_count": 25,
   "metadata": {},
   "outputs": [
    {
     "data": {
      "image/png": "[encoded data removed]",
      "text/plain": [
       "<Figure size 720x432 with 1 Axes>"
      ]
     },
     "metadata": {
      "needs_background": "light"
     },
     "output_type": "display_data"
    }
   ],
   "source": [
    "plot_difference(1, 'Decision tree versus Random Forest')"
   ]
  },
  {
   "cell_type": "markdown",
   "metadata": {},
   "source": [
    "Here are the results of the decision tree, plotted against the results of the random forest. The ensemble again seems to win out. Bias has been reduced, and precision accuracy and recall remain steady. Another interesting feature of the Random Forest classifier, is that you are able to extract feature importances from the fitted model. Below we can see the features considered important by our model."
   ]
  },
  {
   "cell_type": "code",
   "execution_count": 26,
   "metadata": {},
   "outputs": [],
   "source": [
    "RFC.feature_importances_\n",
    "FI_df = pd.DataFrame(RFC.feature_importances_, index=surv.columns,columns =['FI Score'])\n",
    "FI_df.sort_values('FI Score', inplace=True, ascending = False)\n"
   ]
  },
  {
   "cell_type": "code",
   "execution_count": 27,
   "metadata": {},
   "outputs": [
    {
     "data": {
      "text/plain": [
       "Text(0, 0.5, 'Feature Importance')"
      ]
     },
     "execution_count": 27,
     "metadata": {},
     "output_type": "execute_result"
    },
    {
     "data": {
      "image/png": "[encoded data removed]",
      "text/plain": [
       "<Figure size 720x360 with 1 Axes>"
      ]
     },
     "metadata": {
      "needs_background": "light"
     },
     "output_type": "display_data"
    }
   ],
   "source": [
    "%matplotlib inline\n",
    "pl = FI_df.plot.bar(figsize=(10,5))\n",
    "pl.set_ylabel(\"Feature Importance\")"
   ]
  },
  {
   "cell_type": "markdown",
   "metadata": {},
   "source": [
    "## KNN - Random Subspace Bagging"
   ]
  },
  {
   "cell_type": "markdown",
   "metadata": {},
   "source": [
    "Bagging, or bootstrap aggregating, is an ensemble technique used to improve stability and accuracy in algorithms. The idea of bagging is to essentially train a number of classifiers on different subsets of the training data. When it comes to KNN, bootstrap resampling does not produce the wished-for diversity, this is because k-NN is a stable classifier. Instead we have to use random subspace bagging to generate diversity."
   ]
  },
  {
   "cell_type": "code",
   "execution_count": 28,
   "metadata": {},
   "outputs": [],
   "source": [
    "from sklearn.ensemble import BaggingClassifier\n",
    "def find_best_n(z, X_train, X_test, y_train, y_test, start, limit):\n",
    "    best_b, best_a, best_n = 0, 0, 0\n",
    "    for n in range(start, limit):\n",
    "        kNN = KNeighborsClassifier(n_neighbors=3)  \n",
    "        random_SS_kNN = BaggingClassifier(kNN, \n",
    "                            n_estimators = n,\n",
    "                            max_samples=1.0, \n",
    "                            max_features=z,\n",
    "                            random_state=2)\n",
    "        y_pred = random_SS_kNN .fit(X_train, y_train).predict(X_test)\n",
    "        bias, accuracy = get_accuracy_bias(y_test, y_pred)\n",
    "        best_b, best_n, best_a = get_best(best_b, best_n, n, best_a, bias, accuracy)\n",
    "    return [z, best_n, bias, accuracy]"
   ]
  },
  {
   "cell_type": "code",
   "execution_count": 29,
   "metadata": {},
   "outputs": [],
   "source": [
    "X_train, X_test, y_train, y_test = train_test_split(X, y, test_size = 1/3, random_state=1)\n",
    "results = []\n",
    "# Here we are trying different values for the maximum_features value, while also trying different \n",
    "# numbers of estimators. At each iteration, if we have improved on bias, we discard the previous\n",
    "# results\n",
    "i = 0.05\n",
    "while i < 1:\n",
    "    new = (find_best_n(i, X_train, X_test, y_train, y_test, 2, 50))\n",
    "    if len(results) == 0:\n",
    "        results.append(new)\n",
    "    else:\n",
    "        if results[0][2] < new[2]:\n",
    "            results = []\n",
    "            results.append(new)\n",
    "        if results[0][2] == new[2]:\n",
    "            results.append(new)\n",
    "    i += 0.05"
   ]
  },
  {
   "cell_type": "code",
   "execution_count": 30,
   "metadata": {},
   "outputs": [],
   "source": [
    "# The results here have the best potential bias, we now sort via accuracy\n",
    "# and take the last item on the list. \n",
    "results.sort(key=lambda x: x[2])\n",
    "m = results[-1][0]\n",
    "n = results[-1][1]"
   ]
  },
  {
   "cell_type": "code",
   "execution_count": 31,
   "metadata": {},
   "outputs": [
    {
     "data": {
      "text/html": [
       "<div>\n",
       "<style scoped>\n",
       "    .dataframe tbody tr th:only-of-type {\n",
       "        vertical-align: middle;\n",
       "    }\n",
       "\n",
       "    .dataframe tbody tr th {\n",
       "        vertical-align: top;\n",
       "    }\n",
       "\n",
       "    .dataframe thead th {\n",
       "        text-align: right;\n",
       "    }\n",
       "</style>\n",
       "<table border=\"1\" class=\"dataframe\">\n",
       "  <thead>\n",
       "    <tr style=\"text-align: right;\">\n",
       "      <th></th>\n",
       "      <th>Classifier</th>\n",
       "      <th>Accuracy</th>\n",
       "      <th>Bias</th>\n",
       "      <th>Predicted Minority</th>\n",
       "      <th>F1</th>\n",
       "      <th>Precision</th>\n",
       "      <th>Recall</th>\n",
       "      <th>False Positive</th>\n",
       "      <th>BER</th>\n",
       "      <th>Confusion Matrix</th>\n",
       "    </tr>\n",
       "  </thead>\n",
       "  <tbody>\n",
       "    <tr>\n",
       "      <th>0</th>\n",
       "      <td>Gradient Boosting</td>\n",
       "      <td>0.65</td>\n",
       "      <td>0.28</td>\n",
       "      <td>0.25</td>\n",
       "      <td>0.75</td>\n",
       "      <td>0.70</td>\n",
       "      <td>0.80</td>\n",
       "      <td>0.64</td>\n",
       "      <td>0.42</td>\n",
       "      <td>[[13, 23], [13, 53]]</td>\n",
       "    </tr>\n",
       "    <tr>\n",
       "      <th>1</th>\n",
       "      <td>RFC</td>\n",
       "      <td>0.61</td>\n",
       "      <td>0.11</td>\n",
       "      <td>0.31</td>\n",
       "      <td>0.71</td>\n",
       "      <td>0.69</td>\n",
       "      <td>0.73</td>\n",
       "      <td>0.61</td>\n",
       "      <td>0.44</td>\n",
       "      <td>[[14, 22], [18, 48]]</td>\n",
       "    </tr>\n",
       "    <tr>\n",
       "      <th>2</th>\n",
       "      <td>SS_kNN</td>\n",
       "      <td>0.66</td>\n",
       "      <td>0.25</td>\n",
       "      <td>0.21</td>\n",
       "      <td>0.77</td>\n",
       "      <td>0.74</td>\n",
       "      <td>0.81</td>\n",
       "      <td>0.75</td>\n",
       "      <td>0.47</td>\n",
       "      <td>[[7, 21], [14, 60]]</td>\n",
       "    </tr>\n",
       "  </tbody>\n",
       "</table>\n",
       "</div>"
      ],
      "text/plain": [
       "          Classifier  Accuracy  Bias  Predicted Minority   F1  Precision  \\\n",
       "0  Gradient Boosting      0.65  0.28                0.25 0.75       0.70   \n",
       "1                RFC      0.61  0.11                0.31 0.71       0.69   \n",
       "2             SS_kNN      0.66  0.25                0.21 0.77       0.74   \n",
       "\n",
       "   Recall  False Positive  BER      Confusion Matrix  \n",
       "0    0.80            0.64 0.42  [[13, 23], [13, 53]]  \n",
       "1    0.73            0.61 0.44  [[14, 22], [18, 48]]  \n",
       "2    0.81            0.75 0.47   [[7, 21], [14, 60]]  "
      ]
     },
     "execution_count": 31,
     "metadata": {},
     "output_type": "execute_result"
    }
   ],
   "source": [
    "kNN = KNeighborsClassifier(n_neighbors=3)  \n",
    "random_SS_kNN = BaggingClassifier(kNN, \n",
    "                            n_estimators = n,\n",
    "                            max_samples=1.0, \n",
    "                            max_features=m,\n",
    "                            random_state=3)\n",
    "model_results2.loc[2] = ['SS_kNN'] + train_model(random_SS_kNN, X_train, X_test, y_train, y_test)\n",
    "model_results2"
   ]
  },
  {
   "cell_type": "code",
   "execution_count": 32,
   "metadata": {},
   "outputs": [
    {
     "data": {
      "image/png": "[encoded data removed]",
      "text/plain": [
       "<Figure size 720x432 with 1 Axes>"
      ]
     },
     "metadata": {
      "needs_background": "light"
     },
     "output_type": "display_data"
    }
   ],
   "source": [
    "plot_difference(2, 'KNN versus Random Subspace KNN')"
   ]
  },
  {
   "cell_type": "markdown",
   "metadata": {},
   "source": [
    "Again, it seems as though our ensemble method has won. Accuracy has fallen a little, as has recall, but precision has remained steady while bias drops. "
   ]
  },
  {
   "cell_type": "markdown",
   "metadata": {},
   "source": [
    "### Bagged Logistic Regression"
   ]
  },
  {
   "cell_type": "markdown",
   "metadata": {},
   "source": [
    "For the final model, I again decided to use bagging. This time we will be using \"traditional\" bagging, as opposed to subspace bagging. I have also weighted the classes by hand this time, as using a function was proving extremely slow and computationally heavy. "
   ]
  },
  {
   "cell_type": "code",
   "execution_count": 33,
   "metadata": {},
   "outputs": [],
   "source": [
    "def weighted_train_model(model, X_train, X_test, y_train, y_test):\n",
    "    sample_weights = np.zeros(len(y_train))\n",
    "    sample_weights[y_train == 'GE5'] = 1\n",
    "    sample_weights[y_train == 'L5'] = 1.9\n",
    "    y_pred = model.fit(X_train, y_train, sample_weights).predict(X_test)\n",
    "    return (evaluate_model(y_pred, y_test))\n"
   ]
  },
  {
   "cell_type": "code",
   "execution_count": 34,
   "metadata": {},
   "outputs": [
    {
     "data": {
      "text/html": [
       "<div>\n",
       "<style scoped>\n",
       "    .dataframe tbody tr th:only-of-type {\n",
       "        vertical-align: middle;\n",
       "    }\n",
       "\n",
       "    .dataframe tbody tr th {\n",
       "        vertical-align: top;\n",
       "    }\n",
       "\n",
       "    .dataframe thead th {\n",
       "        text-align: right;\n",
       "    }\n",
       "</style>\n",
       "<table border=\"1\" class=\"dataframe\">\n",
       "  <thead>\n",
       "    <tr style=\"text-align: right;\">\n",
       "      <th></th>\n",
       "      <th>Classifier</th>\n",
       "      <th>Accuracy</th>\n",
       "      <th>Bias</th>\n",
       "      <th>Predicted Minority</th>\n",
       "      <th>F1</th>\n",
       "      <th>Precision</th>\n",
       "      <th>Recall</th>\n",
       "      <th>False Positive</th>\n",
       "      <th>BER</th>\n",
       "      <th>Confusion Matrix</th>\n",
       "    </tr>\n",
       "  </thead>\n",
       "  <tbody>\n",
       "    <tr>\n",
       "      <th>0</th>\n",
       "      <td>Gradient Boosting</td>\n",
       "      <td>0.65</td>\n",
       "      <td>0.28</td>\n",
       "      <td>0.25</td>\n",
       "      <td>0.75</td>\n",
       "      <td>0.70</td>\n",
       "      <td>0.80</td>\n",
       "      <td>0.64</td>\n",
       "      <td>0.42</td>\n",
       "      <td>[[13, 23], [13, 53]]</td>\n",
       "    </tr>\n",
       "    <tr>\n",
       "      <th>1</th>\n",
       "      <td>RFC</td>\n",
       "      <td>0.61</td>\n",
       "      <td>0.11</td>\n",
       "      <td>0.31</td>\n",
       "      <td>0.71</td>\n",
       "      <td>0.69</td>\n",
       "      <td>0.73</td>\n",
       "      <td>0.61</td>\n",
       "      <td>0.44</td>\n",
       "      <td>[[14, 22], [18, 48]]</td>\n",
       "    </tr>\n",
       "    <tr>\n",
       "      <th>2</th>\n",
       "      <td>SS_kNN</td>\n",
       "      <td>0.66</td>\n",
       "      <td>0.25</td>\n",
       "      <td>0.21</td>\n",
       "      <td>0.77</td>\n",
       "      <td>0.74</td>\n",
       "      <td>0.81</td>\n",
       "      <td>0.75</td>\n",
       "      <td>0.47</td>\n",
       "      <td>[[7, 21], [14, 60]]</td>\n",
       "    </tr>\n",
       "    <tr>\n",
       "      <th>3</th>\n",
       "      <td>BLR</td>\n",
       "      <td>0.71</td>\n",
       "      <td>0.14</td>\n",
       "      <td>0.24</td>\n",
       "      <td>0.80</td>\n",
       "      <td>0.78</td>\n",
       "      <td>0.82</td>\n",
       "      <td>0.61</td>\n",
       "      <td>0.39</td>\n",
       "      <td>[[11, 17], [13, 61]]</td>\n",
       "    </tr>\n",
       "  </tbody>\n",
       "</table>\n",
       "</div>"
      ],
      "text/plain": [
       "          Classifier  Accuracy  Bias  Predicted Minority   F1  Precision  \\\n",
       "0  Gradient Boosting      0.65  0.28                0.25 0.75       0.70   \n",
       "1                RFC      0.61  0.11                0.31 0.71       0.69   \n",
       "2             SS_kNN      0.66  0.25                0.21 0.77       0.74   \n",
       "3                BLR      0.71  0.14                0.24 0.80       0.78   \n",
       "\n",
       "   Recall  False Positive  BER      Confusion Matrix  \n",
       "0    0.80            0.64 0.42  [[13, 23], [13, 53]]  \n",
       "1    0.73            0.61 0.44  [[14, 22], [18, 48]]  \n",
       "2    0.81            0.75 0.47   [[7, 21], [14, 60]]  \n",
       "3    0.82            0.61 0.39  [[11, 17], [13, 61]]  "
      ]
     },
     "execution_count": 34,
     "metadata": {},
     "output_type": "execute_result"
    }
   ],
   "source": [
    "BLR = BaggingClassifier(LogisticRegression(max_iter=10000, solver = 'sag', random_state=0), \n",
    "                      n_estimators=10, \n",
    "                      bootstrap = True, random_state = 0)\n",
    "model_results2.loc[3] = ['BLR'] + weighted_train_model(BLR, X_train, X_test, y_train, y_test)\n",
    "model_results2\n"
   ]
  },
  {
   "cell_type": "code",
   "execution_count": 35,
   "metadata": {},
   "outputs": [
    {
     "data": {
      "image/png": "[encoded data removed]",
      "text/plain": [
       "<Figure size 720x432 with 1 Axes>"
      ]
     },
     "metadata": {
      "needs_background": "light"
     },
     "output_type": "display_data"
    }
   ],
   "source": [
    "plot_difference(3, 'Logistic Regression versus Bagged Logistic Regression')"
   ]
  },
  {
   "cell_type": "markdown",
   "metadata": {},
   "source": [
    "### Test the impact of this strategy on another dataset of your choice. Discuss the effectiveness of the strategy on this second dataset.  "
   ]
  },
  {
   "cell_type": "markdown",
   "metadata": {},
   "source": [
    "In section two, I used a variety of Ensemble techniques to address bias. For this new dataset, I decided to pursue uniquely bagged Logistic Regression classification."
   ]
  },
  {
   "cell_type": "code",
   "execution_count": 36,
   "metadata": {},
   "outputs": [],
   "source": [
    "fraud = pd.read_csv('creditcardv2.csv')"
   ]
  },
  {
   "cell_type": "code",
   "execution_count": 37,
   "metadata": {},
   "outputs": [
    {
     "data": {
      "text/plain": [
       "0    2008\n",
       "1     492\n",
       "Name: Class, dtype: int64"
      ]
     },
     "execution_count": 37,
     "metadata": {},
     "output_type": "execute_result"
    }
   ],
   "source": [
    "vc = fraud['Class'].value_counts()\n",
    "vc"
   ]
  },
  {
   "cell_type": "code",
   "execution_count": 38,
   "metadata": {},
   "outputs": [
    {
     "data": {
      "text/plain": [
       "((2500, 31), (2500,))"
      ]
     },
     "execution_count": 38,
     "metadata": {},
     "output_type": "execute_result"
    }
   ],
   "source": [
    "y2 = fraud.pop('Class').values\n",
    "X2 = fraud.values\n",
    "X2.shape, y2.shape"
   ]
  },
  {
   "cell_type": "code",
   "execution_count": 39,
   "metadata": {},
   "outputs": [
    {
     "name": "stdout",
     "output_type": "stream",
     "text": [
      "Minority class : 0.20\n"
     ]
    }
   ],
   "source": [
    "min_class = y2.sum()/len(y2)\n",
    "print(\"Minority class : %0.2f\" % min_class)"
   ]
  },
  {
   "cell_type": "code",
   "execution_count": 40,
   "metadata": {},
   "outputs": [],
   "source": [
    "def evaluate_model(y_pred, y_test):\n",
    "    pred_pos = y_pred.sum()\n",
    "    pred_neg = len(y_pred) - pred_pos\n",
    "    test_pos = y_test.sum()\n",
    "    bias = 1 - (pred_pos / test_pos)\n",
    "    accuracy = accuracy_score(y_test, y_pred)\n",
    "    minority_percent = pred_pos/len(y_pred)\n",
    "    confusion = confusion_matrix(y_test, y_pred)\n",
    "    precision = confusion[1][1] / (confusion[1][1] + confusion[0][1])\n",
    "    recall = confusion[1][1] / (confusion[1][1] + confusion[1][0])\n",
    "    f1 = f1_score(y_test, y_pred)\n",
    "    true_negative = confusion[0][1] / (confusion[0][1] + confusion[0][1])\n",
    "    false_positive = confusion[0][1] / (confusion[0][1] + confusion[0][0])\n",
    "    false_negative = confusion[1][0] / (confusion[1][0] + confusion[1][1])\n",
    "    BER = statistics.mean([false_positive, false_negative])\n",
    "    return [accuracy, bias, minority_percent, f1, precision, recall, false_positive, BER, confusion]"
   ]
  },
  {
   "cell_type": "code",
   "execution_count": 41,
   "metadata": {},
   "outputs": [
    {
     "data": {
      "text/html": [
       "<div>\n",
       "<style scoped>\n",
       "    .dataframe tbody tr th:only-of-type {\n",
       "        vertical-align: middle;\n",
       "    }\n",
       "\n",
       "    .dataframe tbody tr th {\n",
       "        vertical-align: top;\n",
       "    }\n",
       "\n",
       "    .dataframe thead th {\n",
       "        text-align: right;\n",
       "    }\n",
       "</style>\n",
       "<table border=\"1\" class=\"dataframe\">\n",
       "  <thead>\n",
       "    <tr style=\"text-align: right;\">\n",
       "      <th></th>\n",
       "      <th>Classifier</th>\n",
       "      <th>Accuracy</th>\n",
       "      <th>Bias</th>\n",
       "      <th>Predicted Minority</th>\n",
       "      <th>F1</th>\n",
       "      <th>Precision</th>\n",
       "      <th>Recall</th>\n",
       "      <th>False Positive</th>\n",
       "      <th>BER</th>\n",
       "      <th>Confusion Matrix</th>\n",
       "    </tr>\n",
       "  </thead>\n",
       "  <tbody>\n",
       "    <tr>\n",
       "      <th>0</th>\n",
       "      <td>Gradient Boosting</td>\n",
       "      <td>0.62</td>\n",
       "      <td>0.36</td>\n",
       "      <td>0.23</td>\n",
       "      <td>0.73</td>\n",
       "      <td>0.67</td>\n",
       "      <td>0.80</td>\n",
       "      <td>0.72</td>\n",
       "      <td>0.46</td>\n",
       "      <td>[[10, 26], [13, 53]]</td>\n",
       "    </tr>\n",
       "    <tr>\n",
       "      <th>1</th>\n",
       "      <td>Decision Tree</td>\n",
       "      <td>0.58</td>\n",
       "      <td>0.25</td>\n",
       "      <td>0.26</td>\n",
       "      <td>0.70</td>\n",
       "      <td>0.65</td>\n",
       "      <td>0.74</td>\n",
       "      <td>0.72</td>\n",
       "      <td>0.49</td>\n",
       "      <td>[[10, 26], [17, 49]]</td>\n",
       "    </tr>\n",
       "    <tr>\n",
       "      <th>2</th>\n",
       "      <td>k Nearest Neighbors</td>\n",
       "      <td>0.68</td>\n",
       "      <td>0.53</td>\n",
       "      <td>0.17</td>\n",
       "      <td>0.78</td>\n",
       "      <td>0.69</td>\n",
       "      <td>0.89</td>\n",
       "      <td>0.72</td>\n",
       "      <td>0.41</td>\n",
       "      <td>[[10, 26], [7, 59]]</td>\n",
       "    </tr>\n",
       "    <tr>\n",
       "      <th>3</th>\n",
       "      <td>Logistic Regression</td>\n",
       "      <td>0.65</td>\n",
       "      <td>0.83</td>\n",
       "      <td>0.06</td>\n",
       "      <td>0.78</td>\n",
       "      <td>0.66</td>\n",
       "      <td>0.95</td>\n",
       "      <td>0.92</td>\n",
       "      <td>0.48</td>\n",
       "      <td>[[3, 33], [3, 63]]</td>\n",
       "    </tr>\n",
       "    <tr>\n",
       "      <th>4</th>\n",
       "      <td>Logistic Regression 2</td>\n",
       "      <td>0.81</td>\n",
       "      <td>0.99</td>\n",
       "      <td>0.00</td>\n",
       "      <td>0.01</td>\n",
       "      <td>0.50</td>\n",
       "      <td>0.01</td>\n",
       "      <td>0.00</td>\n",
       "      <td>0.50</td>\n",
       "      <td>[[674, 1], [158, 1]]</td>\n",
       "    </tr>\n",
       "  </tbody>\n",
       "</table>\n",
       "</div>"
      ],
      "text/plain": [
       "              Classifier  Accuracy  Bias  Predicted Minority   F1  Precision  \\\n",
       "0      Gradient Boosting      0.62  0.36                0.23 0.73       0.67   \n",
       "1          Decision Tree      0.58  0.25                0.26 0.70       0.65   \n",
       "2    k Nearest Neighbors      0.68  0.53                0.17 0.78       0.69   \n",
       "3    Logistic Regression      0.65  0.83                0.06 0.78       0.66   \n",
       "4  Logistic Regression 2      0.81  0.99                0.00 0.01       0.50   \n",
       "\n",
       "   Recall  False Positive  BER      Confusion Matrix  \n",
       "0    0.80            0.72 0.46  [[10, 26], [13, 53]]  \n",
       "1    0.74            0.72 0.49  [[10, 26], [17, 49]]  \n",
       "2    0.89            0.72 0.41   [[10, 26], [7, 59]]  \n",
       "3    0.95            0.92 0.48    [[3, 33], [3, 63]]  \n",
       "4    0.01            0.00 0.50  [[674, 1], [158, 1]]  "
      ]
     },
     "execution_count": 41,
     "metadata": {},
     "output_type": "execute_result"
    }
   ],
   "source": [
    "X_train2, X_test2, y_train2, y_test2 = train_test_split(X2, y2, test_size = 1/3, random_state=0)\n",
    "minority_class = y_test2.sum()/len(y_test2)\n",
    "minority_class\n",
    "LR = LogisticRegression(max_iter=10000, solver = 'sag')\n",
    "model_resultsb = pd.DataFrame(columns=['Classifier', 'Accuracy','Bias','Predicted Minority', 'F1', \n",
    "                                       'Precision', 'Recall', 'False Positive', 'BER', 'Confusion Matrix'])\n",
    "\n",
    "model_results.loc[4] = ['Logistic Regression 2'] + train_model(LR, X_train2, X_test2, y_train2, y_test2)\n",
    "model_results"
   ]
  },
  {
   "cell_type": "markdown",
   "metadata": {},
   "source": [
    "Simple logistic regression is proving even more unsuccessful here than it did with the previous data set. Accuracy is high, but bias is at an incredible 0.99, or 99%. The minority class in this data set, corresponds to the positive class, hence why we see a false positive rate of zero. The classifier is making almost no positive classifications, so it is impossible to incorrectly classify an example as positive. "
   ]
  },
  {
   "cell_type": "code",
   "execution_count": 42,
   "metadata": {},
   "outputs": [
    {
     "data": {
      "image/png": "[encoded data removed]",
      "text/plain": [
       "<Figure size 1008x432 with 1 Axes>"
      ]
     },
     "metadata": {
      "needs_background": "light"
     },
     "output_type": "display_data"
    }
   ],
   "source": [
    "import matplotlib.pyplot as plt \n",
    "%matplotlib inline \n",
    "labels =  ['Test Set'] + list(model_results['Classifier'].values)\n",
    "results = [minority_class] + list(model_results['Predicted Minority'].values)\n",
    "plt.figure(figsize=(14,6))\n",
    "plt.rc('font', size=12) \n",
    "plt.bar(labels, results, width=0.5, color=['green', 'blue', 'blue','blue','blue', 'red'],alpha=0.5)\n",
    "plt.axhline(y=minority_class, color='red')\n",
    "plt.ylabel('Percentage of Minority Class')\n",
    "plt.title(\"Percentage of Minority Class present in Predictions versus Test Set\")\n",
    "plt.show()"
   ]
  },
  {
   "cell_type": "code",
   "execution_count": 43,
   "metadata": {},
   "outputs": [],
   "source": [
    "def weighted_train_model(model, X_train, X_test, y_train, y_test):\n",
    "    sample_weights = np.zeros(len(y_train))\n",
    "    sample_weights[y_train == 0] = 1\n",
    "    sample_weights[y_train == 1] = 4.25\n",
    "    y_pred = model.fit(X_train, y_train, sample_weights).predict(X_test)\n",
    "    return (evaluate_model(y_pred, y_test))"
   ]
  },
  {
   "cell_type": "code",
   "execution_count": 44,
   "metadata": {},
   "outputs": [
    {
     "data": {
      "text/html": [
       "<div>\n",
       "<style scoped>\n",
       "    .dataframe tbody tr th:only-of-type {\n",
       "        vertical-align: middle;\n",
       "    }\n",
       "\n",
       "    .dataframe tbody tr th {\n",
       "        vertical-align: top;\n",
       "    }\n",
       "\n",
       "    .dataframe thead th {\n",
       "        text-align: right;\n",
       "    }\n",
       "</style>\n",
       "<table border=\"1\" class=\"dataframe\">\n",
       "  <thead>\n",
       "    <tr style=\"text-align: right;\">\n",
       "      <th></th>\n",
       "      <th>Classifier</th>\n",
       "      <th>Accuracy</th>\n",
       "      <th>Bias</th>\n",
       "      <th>Predicted Minority</th>\n",
       "      <th>F1</th>\n",
       "      <th>Precision</th>\n",
       "      <th>Recall</th>\n",
       "      <th>False Positive</th>\n",
       "      <th>BER</th>\n",
       "      <th>Confusion Matrix</th>\n",
       "    </tr>\n",
       "  </thead>\n",
       "  <tbody>\n",
       "    <tr>\n",
       "      <th>0</th>\n",
       "      <td>Gradient Boosting</td>\n",
       "      <td>0.65</td>\n",
       "      <td>0.28</td>\n",
       "      <td>0.25</td>\n",
       "      <td>0.75</td>\n",
       "      <td>0.70</td>\n",
       "      <td>0.80</td>\n",
       "      <td>0.64</td>\n",
       "      <td>0.42</td>\n",
       "      <td>[[13, 23], [13, 53]]</td>\n",
       "    </tr>\n",
       "    <tr>\n",
       "      <th>1</th>\n",
       "      <td>RFC</td>\n",
       "      <td>0.61</td>\n",
       "      <td>0.11</td>\n",
       "      <td>0.31</td>\n",
       "      <td>0.71</td>\n",
       "      <td>0.69</td>\n",
       "      <td>0.73</td>\n",
       "      <td>0.61</td>\n",
       "      <td>0.44</td>\n",
       "      <td>[[14, 22], [18, 48]]</td>\n",
       "    </tr>\n",
       "    <tr>\n",
       "      <th>2</th>\n",
       "      <td>SS_kNN</td>\n",
       "      <td>0.66</td>\n",
       "      <td>0.25</td>\n",
       "      <td>0.21</td>\n",
       "      <td>0.77</td>\n",
       "      <td>0.74</td>\n",
       "      <td>0.81</td>\n",
       "      <td>0.75</td>\n",
       "      <td>0.47</td>\n",
       "      <td>[[7, 21], [14, 60]]</td>\n",
       "    </tr>\n",
       "    <tr>\n",
       "      <th>3</th>\n",
       "      <td>BLR</td>\n",
       "      <td>0.71</td>\n",
       "      <td>0.14</td>\n",
       "      <td>0.24</td>\n",
       "      <td>0.80</td>\n",
       "      <td>0.78</td>\n",
       "      <td>0.82</td>\n",
       "      <td>0.61</td>\n",
       "      <td>0.39</td>\n",
       "      <td>[[11, 17], [13, 61]]</td>\n",
       "    </tr>\n",
       "    <tr>\n",
       "      <th>4</th>\n",
       "      <td>Bagged Logistic Regression 2</td>\n",
       "      <td>0.85</td>\n",
       "      <td>0.33</td>\n",
       "      <td>0.13</td>\n",
       "      <td>0.52</td>\n",
       "      <td>0.65</td>\n",
       "      <td>0.43</td>\n",
       "      <td>0.05</td>\n",
       "      <td>0.31</td>\n",
       "      <td>[[638, 37], [90, 69]]</td>\n",
       "    </tr>\n",
       "  </tbody>\n",
       "</table>\n",
       "</div>"
      ],
      "text/plain": [
       "                     Classifier  Accuracy  Bias  Predicted Minority   F1  \\\n",
       "0             Gradient Boosting      0.65  0.28                0.25 0.75   \n",
       "1                           RFC      0.61  0.11                0.31 0.71   \n",
       "2                        SS_kNN      0.66  0.25                0.21 0.77   \n",
       "3                           BLR      0.71  0.14                0.24 0.80   \n",
       "4  Bagged Logistic Regression 2      0.85  0.33                0.13 0.52   \n",
       "\n",
       "   Precision  Recall  False Positive  BER       Confusion Matrix  \n",
       "0       0.70    0.80            0.64 0.42   [[13, 23], [13, 53]]  \n",
       "1       0.69    0.73            0.61 0.44   [[14, 22], [18, 48]]  \n",
       "2       0.74    0.81            0.75 0.47    [[7, 21], [14, 60]]  \n",
       "3       0.78    0.82            0.61 0.39   [[11, 17], [13, 61]]  \n",
       "4       0.65    0.43            0.05 0.31  [[638, 37], [90, 69]]  "
      ]
     },
     "execution_count": 44,
     "metadata": {},
     "output_type": "execute_result"
    }
   ],
   "source": [
    "BLR = BaggingClassifier(LogisticRegression(max_iter=100000, solver = 'sag', random_state=0), \n",
    "                      n_estimators=12, \n",
    "                      bootstrap = True, random_state = 0)\n",
    "model_results2.loc[4] = ['Bagged Logistic Regression 2'] + weighted_train_model(BLR, X_train2, X_test2, y_train2, y_test2)\n",
    "model_results2"
   ]
  },
  {
   "cell_type": "markdown",
   "metadata": {},
   "source": [
    "As with the previous instance of bagged Logistic Regression, writing a function to set the weights or the n-estimators proved extremely slow and computationally costly. I instead decided to set them by hand. "
   ]
  },
  {
   "cell_type": "code",
   "execution_count": 45,
   "metadata": {},
   "outputs": [
    {
     "data": {
      "image/png": "[encoded data removed]",
      "text/plain": [
       "<Figure size 720x432 with 1 Axes>"
      ]
     },
     "metadata": {
      "needs_background": "light"
     },
     "output_type": "display_data"
    }
   ],
   "source": [
    "plot_difference(4, 'Logistic Regression versus Bagged Logistic Regression')"
   ]
  },
  {
   "cell_type": "markdown",
   "metadata": {},
   "source": [
    "Here it seems, our ensemble method wins out again. Accuracy has held steady, bias has fallen, precision has grown, and recall has climbed from almost 0 to around .5. "
   ]
  },
  {
   "cell_type": "markdown",
   "metadata": {},
   "source": [
    "### Conclusions"
   ]
  },
  {
   "cell_type": "markdown",
   "metadata": {},
   "source": [
    "On a superficial level, my strategy for addressing bias seemed to be extremely successful. Bias fell globally, and accuracy, recall and precision remained relatively stable. But, as I looked closer at my results I came to suspect that my approach to selecting parameters was far too simplistic, and that these results were perhaps too good to be true. After reverifying my models with cross validation, it seems that they had all fallen ill to over-fitting. \n",
    "\n",
    "For instance, if we take my modified Gradient Boosting Classifier, and cross validate it, we can see that bias climbs right back up to 69%. If I cross-validate my Random Forest Classifier, bias becomes negative, meaning the classifier is over predicting the minority class. If I then cross validate a Random Forest Classifier with the default variables untouched, we can see it produces a result with only 0.26 bias, and an accuracy score of 0.68.\n",
    "\n",
    "It seems that Ensembles are definitely a valid tool for dealing with imbalanced data but I did take a wrong turn with my simplistic approach to parameter selection. I imagine that parameter tuning can also be very successful in assisting with correcting balance, but that was not the case here. "
   ]
  },
  {
   "cell_type": "code",
   "execution_count": 46,
   "metadata": {},
   "outputs": [
    {
     "data": {
      "text/html": [
       "<div>\n",
       "<style scoped>\n",
       "    .dataframe tbody tr th:only-of-type {\n",
       "        vertical-align: middle;\n",
       "    }\n",
       "\n",
       "    .dataframe tbody tr th {\n",
       "        vertical-align: top;\n",
       "    }\n",
       "\n",
       "    .dataframe thead th {\n",
       "        text-align: right;\n",
       "    }\n",
       "</style>\n",
       "<table border=\"1\" class=\"dataframe\">\n",
       "  <thead>\n",
       "    <tr style=\"text-align: right;\">\n",
       "      <th></th>\n",
       "      <th>Classifier</th>\n",
       "      <th>Bias</th>\n",
       "      <th>Accuracy</th>\n",
       "      <th>Predicted Minority</th>\n",
       "      <th>Precision</th>\n",
       "      <th>Recall</th>\n",
       "      <th>F1</th>\n",
       "      <th>False Positive Rate</th>\n",
       "      <th>BER</th>\n",
       "    </tr>\n",
       "  </thead>\n",
       "  <tbody>\n",
       "    <tr>\n",
       "      <th>1</th>\n",
       "      <td>GBC</td>\n",
       "      <td>0.64</td>\n",
       "      <td>0.76</td>\n",
       "      <td>0.09</td>\n",
       "      <td>0.10</td>\n",
       "      <td>0.96</td>\n",
       "      <td>0.18</td>\n",
       "      <td>0.77</td>\n",
       "      <td>0.40</td>\n",
       "    </tr>\n",
       "    <tr>\n",
       "      <th>2</th>\n",
       "      <td>RFC</td>\n",
       "      <td>-0.84</td>\n",
       "      <td>0.59</td>\n",
       "      <td>0.49</td>\n",
       "      <td>0.10</td>\n",
       "      <td>0.57</td>\n",
       "      <td>0.17</td>\n",
       "      <td>0.35</td>\n",
       "      <td>0.39</td>\n",
       "    </tr>\n",
       "    <tr>\n",
       "      <th>3</th>\n",
       "      <td>RFC2</td>\n",
       "      <td>0.26</td>\n",
       "      <td>0.68</td>\n",
       "      <td>0.20</td>\n",
       "      <td>0.10</td>\n",
       "      <td>0.83</td>\n",
       "      <td>0.17</td>\n",
       "      <td>0.74</td>\n",
       "      <td>0.46</td>\n",
       "    </tr>\n",
       "  </tbody>\n",
       "</table>\n",
       "</div>"
      ],
      "text/plain": [
       "  Classifier  Bias  Accuracy  Predicted Minority  Precision  Recall   F1  \\\n",
       "1        GBC  0.64      0.76                0.09       0.10    0.96 0.18   \n",
       "2        RFC -0.84      0.59                0.49       0.10    0.57 0.17   \n",
       "3       RFC2  0.26      0.68                0.20       0.10    0.83 0.17   \n",
       "\n",
       "   False Positive Rate  BER  \n",
       "1                 0.77 0.40  \n",
       "2                 0.35 0.39  \n",
       "3                 0.74 0.46  "
      ]
     },
     "execution_count": 46,
     "metadata": {},
     "output_type": "execute_result"
    }
   ],
   "source": [
    "xval_results2 = pd.DataFrame(columns=['Classifier','Bias', 'Accuracy', 'Predicted Minority', 'Precision',\n",
    "                                    'Recall', 'F1', 'False Positive Rate', 'BER'])\n",
    "\n",
    "cv_results = cross_validate(GBC, X, y, cv= folds,scoring=scoring, return_train_score=False, \n",
    "                                 verbose = v, n_jobs = -1)\n",
    "xval_results2.loc[1] = ['GBC'] + evaluate_xval(cv_results)\n",
    "cv_results = cross_validate(RFC, X, y, cv= folds,scoring=scoring, return_train_score=False, \n",
    "                                verbose = v, n_jobs = -1)\n",
    "xval_results2.loc[2] = ['RFC'] + evaluate_xval(cv_results)\n",
    "\n",
    "RFC2 = RandomForestClassifier(random_state = 0, criterion=\"gini\", bootstrap=False)\n",
    "cv_results = cross_validate(RFC2, X, y, cv= folds,scoring=scoring, return_train_score=False, \n",
    "                                verbose = v, n_jobs = -1)\n",
    "xval_results2.loc[3] = ['RFC2'] + evaluate_xval(cv_results)\n",
    "xval_results2"
   ]
  },
  {
   "cell_type": "code",
   "execution_count": 47,
   "metadata": {},
   "outputs": [
    {
     "data": {
      "text/plain": [
       "Text(0.5, 1.0, 'Xval Results of Modified versus Default Random Forest')"
      ]
     },
     "execution_count": 47,
     "metadata": {},
     "output_type": "execute_result"
    },
    {
     "data": {
      "image/png": "[encoded data removed]",
      "text/plain": [
       "<Figure size 720x576 with 1 Axes>"
      ]
     },
     "metadata": {
      "needs_background": "light"
     },
     "output_type": "display_data"
    }
   ],
   "source": [
    "accuracy = [xval_results2.iloc[2]['Accuracy'], model_results2.iloc[3]['Accuracy']]\n",
    "bias = [xval_results2.iloc[1]['Bias'], model_results2.iloc[2]['Bias']]\n",
    "precision = [xval_results2.iloc[1]['Precision'], model_results2.iloc[3]['Precision']]\n",
    "recall = [xval_results2.iloc[2]['Recall'], model_results2.iloc[2]['Recall']]\n",
    "X = np.arange(2)\n",
    "fig = plt.figure(figsize=(10,8))\n",
    "ax = fig.add_axes([0,0,1,1])\n",
    "ax.bar(X + 0.00, accuracy, color = 'b', width = 0.1, label=\"Accuracy\")\n",
    "ax.bar(X + 0.1, bias, color = 'g', width = 0.1, label = \"Bias\")\n",
    "ax.bar(X + 0.20, precision, color = 'r', width = 0.1, label = \"Precision\")\n",
    "ax.bar(X + 0.30, recall, color = 'y', width = 0.1, label = \"Recall\")\n",
    "r = mpatches.Patch(color='red', label='Precision')\n",
    "b = mpatches.Patch(color='blue', label='Accuracy')\n",
    "y = mpatches.Patch(color='yellow', label='Recall')\n",
    "g = mpatches.Patch(color='green', label='Bias')\n",
    "plt.legend(handles=[r,b,y,g])\n",
    "plt.title(\"Xval Results of Modified versus Default Random Forest\")"
   ]
  },
  {
   "cell_type": "markdown",
   "metadata": {},
   "source": [
    "Here we can unambiguously see that the default random forest performed significantly better than my \"tuned\" random forest classifier"
   ]
  },
  {
   "cell_type": "code",
   "execution_count": null,
   "metadata": {},
   "outputs": [],
   "source": []
  },
  {
   "cell_type": "code",
   "execution_count": null,
   "metadata": {},
   "outputs": [],
   "source": []
  }
 ],
 "metadata": {
  "kernelspec": {
   "display_name": "Python 3",
   "language": "python",
   "name": "python3"
  },
  "language_info": {
   "codemirror_mode": {
    "name": "ipython",
    "version": 3
   },
   "file_extension": ".py",
   "mimetype": "text/x-python",
   "name": "python",
   "nbconvert_exporter": "python",
   "pygments_lexer": "ipython3",
   "version": "3.8.5"
  }
 },
 "nbformat": 4,
 "nbformat_minor": 4
}
